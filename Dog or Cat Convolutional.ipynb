{
 "cells": [
  {
   "cell_type": "markdown",
   "metadata": {},
   "source": [
    "## Convolutional Neural Network"
   ]
  },
  {
   "cell_type": "code",
   "execution_count": 1,
   "metadata": {},
   "outputs": [],
   "source": [
    "import tensorflow as tf"
   ]
  },
  {
   "cell_type": "code",
   "execution_count": 2,
   "metadata": {},
   "outputs": [
    {
     "data": {
      "text/plain": [
       "'2.3.0'"
      ]
     },
     "execution_count": 2,
     "metadata": {},
     "output_type": "execute_result"
    }
   ],
   "source": [
    "tf.__version__"
   ]
  },
  {
   "cell_type": "code",
   "execution_count": 3,
   "metadata": {},
   "outputs": [],
   "source": [
    "from keras.preprocessing.image import ImageDataGenerator"
   ]
  },
  {
   "cell_type": "code",
   "execution_count": 4,
   "metadata": {},
   "outputs": [
    {
     "name": "stdout",
     "output_type": "stream",
     "text": [
      "Found 8000 images belonging to 2 classes.\n"
     ]
    }
   ],
   "source": [
    "#Preprocessing of training set\n",
    "train_datagen = ImageDataGenerator(rescale = 1./255,\n",
    "                                  shear_range = 0.2,\n",
    "                                  zoom_range = 0.2,\n",
    "                                  horizontal_flip = True)\n",
    "training_set = train_datagen.flow_from_directory(r'P:\\data csience\\Convolutional Neural Networks (CNN)\\dataset\\training_set',\n",
    "                                                target_size = (64,64),\n",
    "                                                 batch_size = 32,\n",
    "                                                 class_mode = 'binary')"
   ]
  },
  {
   "cell_type": "code",
   "execution_count": 5,
   "metadata": {},
   "outputs": [
    {
     "name": "stdout",
     "output_type": "stream",
     "text": [
      "Found 2000 images belonging to 2 classes.\n"
     ]
    }
   ],
   "source": [
    "#Preprocessing of test set\n",
    "test_datagen = ImageDataGenerator(rescale = 1./255)\n",
    "                                 \n",
    "test_set = test_datagen.flow_from_directory(r'P:\\data csience\\Convolutional Neural Networks (CNN)\\dataset\\test_set',\n",
    "                                            target_size =(64,64),\n",
    "                                            batch_size = 32,\n",
    "                                            class_mode = 'binary')\n",
    "                                            "
   ]
  },
  {
   "cell_type": "code",
   "execution_count": 6,
   "metadata": {},
   "outputs": [],
   "source": [
    "#Building CNN\n",
    "cnn = tf.keras.models.Sequential()"
   ]
  },
  {
   "cell_type": "code",
   "execution_count": 7,
   "metadata": {},
   "outputs": [],
   "source": [
    "#adding convolutional layer\n",
    "cnn.add(tf.keras.layers.Conv2D(filters = 32,kernel_size = 3,\n",
    "                              activation = 'relu',input_shape=[64,64,3]))"
   ]
  },
  {
   "cell_type": "code",
   "execution_count": 8,
   "metadata": {},
   "outputs": [],
   "source": [
    "#Pooling\n",
    "cnn.add(tf.keras.layers.MaxPool2D(pool_size = 2, strides = 2))"
   ]
  },
  {
   "cell_type": "code",
   "execution_count": 9,
   "metadata": {},
   "outputs": [],
   "source": [
    "#Add second convolutional layer\n",
    "cnn.add(tf.keras.layers.Conv2D(filters=32,kernel_size = 3,activation = 'relu'))\n",
    "cnn.add(tf.keras.layers.MaxPool2D(pool_size= 2,strides = 2))"
   ]
  },
  {
   "cell_type": "code",
   "execution_count": 10,
   "metadata": {
    "scrolled": true
   },
   "outputs": [],
   "source": [
    "#Flattening\n",
    "cnn.add(tf.keras.layers.Flatten())"
   ]
  },
  {
   "cell_type": "code",
   "execution_count": 11,
   "metadata": {},
   "outputs": [],
   "source": [
    "#full connection\n",
    "cnn.add(tf.keras.layers.Dense(units = 128,activation = 'relu'))"
   ]
  },
  {
   "cell_type": "code",
   "execution_count": 12,
   "metadata": {},
   "outputs": [],
   "source": [
    "#Output Layer\n",
    "cnn.add(tf.keras.layers.Dense(units = 1,activation = 'sigmoid'))"
   ]
  },
  {
   "cell_type": "code",
   "execution_count": 13,
   "metadata": {},
   "outputs": [],
   "source": [
    "#Trainning CNN\n",
    " #Compiling\n",
    "cnn.compile(optimizer = 'adam',loss = 'binary_crossentropy',metrics = ['accuracy'])\n",
    "\n"
   ]
  },
  {
   "cell_type": "code",
   "execution_count": 14,
   "metadata": {},
   "outputs": [
    {
     "name": "stdout",
     "output_type": "stream",
     "text": [
      "Epoch 1/25\n",
      "250/250 [==============================] - 249s 997ms/step - loss: 0.6681 - accuracy: 0.5886 - val_loss: 0.6218 - val_accuracy: 0.6785\n",
      "Epoch 2/25\n",
      "250/250 [==============================] - 111s 445ms/step - loss: 0.6139 - accuracy: 0.6704 - val_loss: 0.5776 - val_accuracy: 0.7055\n",
      "Epoch 3/25\n",
      "250/250 [==============================] - 74s 295ms/step - loss: 0.5676 - accuracy: 0.7086 - val_loss: 0.6155 - val_accuracy: 0.6695\n",
      "Epoch 4/25\n",
      "250/250 [==============================] - 72s 289ms/step - loss: 0.5401 - accuracy: 0.7251 - val_loss: 0.4955 - val_accuracy: 0.7720\n",
      "Epoch 5/25\n",
      "250/250 [==============================] - 113s 453ms/step - loss: 0.5186 - accuracy: 0.7456 - val_loss: 0.4898 - val_accuracy: 0.7710\n",
      "Epoch 6/25\n",
      "250/250 [==============================] - 177s 707ms/step - loss: 0.4831 - accuracy: 0.7629 - val_loss: 0.5422 - val_accuracy: 0.7225\n",
      "Epoch 7/25\n",
      "250/250 [==============================] - 147s 587ms/step - loss: 0.4708 - accuracy: 0.7690 - val_loss: 0.4864 - val_accuracy: 0.7640\n",
      "Epoch 8/25\n",
      "250/250 [==============================] - 120s 479ms/step - loss: 0.4527 - accuracy: 0.7843 - val_loss: 0.4576 - val_accuracy: 0.7970\n",
      "Epoch 9/25\n",
      "250/250 [==============================] - 71s 286ms/step - loss: 0.4361 - accuracy: 0.7906 - val_loss: 0.4819 - val_accuracy: 0.7690\n",
      "Epoch 10/25\n",
      "250/250 [==============================] - 73s 290ms/step - loss: 0.4324 - accuracy: 0.7945 - val_loss: 0.4494 - val_accuracy: 0.7850\n",
      "Epoch 11/25\n",
      "250/250 [==============================] - 92s 370ms/step - loss: 0.4172 - accuracy: 0.8092 - val_loss: 0.4635 - val_accuracy: 0.7865\n",
      "Epoch 12/25\n",
      "250/250 [==============================] - 81s 325ms/step - loss: 0.3934 - accuracy: 0.8216 - val_loss: 0.4523 - val_accuracy: 0.7920\n",
      "Epoch 13/25\n",
      "250/250 [==============================] - 241s 964ms/step - loss: 0.3799 - accuracy: 0.8279 - val_loss: 0.4447 - val_accuracy: 0.7940\n",
      "Epoch 14/25\n",
      "250/250 [==============================] - 185s 739ms/step - loss: 0.3725 - accuracy: 0.8321 - val_loss: 0.4691 - val_accuracy: 0.7945\n",
      "Epoch 15/25\n",
      "250/250 [==============================] - 68s 274ms/step - loss: 0.3520 - accuracy: 0.8435 - val_loss: 0.4737 - val_accuracy: 0.7885\n",
      "Epoch 16/25\n",
      "250/250 [==============================] - 86s 343ms/step - loss: 0.3503 - accuracy: 0.8396 - val_loss: 0.4550 - val_accuracy: 0.8000\n",
      "Epoch 17/25\n",
      "250/250 [==============================] - 71s 285ms/step - loss: 0.3350 - accuracy: 0.8510 - val_loss: 0.4630 - val_accuracy: 0.7940\n",
      "Epoch 18/25\n",
      "250/250 [==============================] - 69s 274ms/step - loss: 0.3191 - accuracy: 0.8589 - val_loss: 0.4434 - val_accuracy: 0.8030\n",
      "Epoch 19/25\n",
      "250/250 [==============================] - 68s 271ms/step - loss: 0.3012 - accuracy: 0.8664 - val_loss: 0.5336 - val_accuracy: 0.7810\n",
      "Epoch 20/25\n",
      "250/250 [==============================] - 442s 2s/step - loss: 0.2981 - accuracy: 0.8669 - val_loss: 0.4741 - val_accuracy: 0.8145\n",
      "Epoch 21/25\n",
      "250/250 [==============================] - 141s 562ms/step - loss: 0.2779 - accuracy: 0.8799 - val_loss: 0.4623 - val_accuracy: 0.8085\n",
      "Epoch 22/25\n",
      "250/250 [==============================] - 111s 446ms/step - loss: 0.2677 - accuracy: 0.8889 - val_loss: 0.4604 - val_accuracy: 0.8010\n",
      "Epoch 23/25\n",
      "250/250 [==============================] - 69s 275ms/step - loss: 0.2513 - accuracy: 0.8950 - val_loss: 0.5212 - val_accuracy: 0.7920\n",
      "Epoch 24/25\n",
      "250/250 [==============================] - 84s 336ms/step - loss: 0.2353 - accuracy: 0.9018 - val_loss: 0.4983 - val_accuracy: 0.8000\n",
      "Epoch 25/25\n",
      "250/250 [==============================] - 190s 759ms/step - loss: 0.2294 - accuracy: 0.9070 - val_loss: 0.4998 - val_accuracy: 0.7990\n"
     ]
    },
    {
     "data": {
      "text/plain": [
       "<tensorflow.python.keras.callbacks.History at 0x171561f7a30>"
      ]
     },
     "execution_count": 14,
     "metadata": {},
     "output_type": "execute_result"
    }
   ],
   "source": [
    " #Train\n",
    "cnn.fit(x = training_set, validation_data = test_set, epochs =25)"
   ]
  },
  {
   "cell_type": "code",
   "execution_count": 15,
   "metadata": {},
   "outputs": [],
   "source": [
    "#Making a single Prediction\n",
    "import numpy as np\n",
    "from keras.preprocessing import image"
   ]
  },
  {
   "cell_type": "code",
   "execution_count": 16,
   "metadata": {},
   "outputs": [],
   "source": [
    "#Loading the image and its size\n",
    "test_image = image.load_img(r'P:\\data csience\\Convolutional Neural Networks (CNN)\\dataset\\single_prediction\\d3.jpg',\n",
    "                           target_size =(64,64))"
   ]
  },
  {
   "cell_type": "code",
   "execution_count": 17,
   "metadata": {},
   "outputs": [],
   "source": [
    "#Converting the image into array as the predict function expects a 2D-array\n",
    "test_image = image.img_to_array(test_image)"
   ]
  },
  {
   "cell_type": "code",
   "execution_count": 18,
   "metadata": {},
   "outputs": [],
   "source": [
    "#We provided batch size = 32, but predicting single prediction,\n",
    "#so we expand the dim.\n",
    "test_image = np.expand_dims(test_image,axis = 0)"
   ]
  },
  {
   "cell_type": "code",
   "execution_count": 19,
   "metadata": {},
   "outputs": [],
   "source": [
    "#Predicting\n",
    "result = cnn.predict(test_image)"
   ]
  },
  {
   "cell_type": "code",
   "execution_count": 20,
   "metadata": {},
   "outputs": [
    {
     "name": "stdout",
     "output_type": "stream",
     "text": [
      "{'cats': 0, 'dogs': 1}\n"
     ]
    }
   ],
   "source": [
    "#By this we get dog=1 & cat=0\n",
    "print(training_set.class_indices)"
   ]
  },
  {
   "cell_type": "code",
   "execution_count": 21,
   "metadata": {},
   "outputs": [],
   "source": [
    "#taking the first batch[0] and its first element[0]\n",
    "if result[0][0] == 1:\n",
    "    prediction = 'dog'\n",
    "else:\n",
    "    prediction = 'cat'"
   ]
  },
  {
   "cell_type": "code",
   "execution_count": 22,
   "metadata": {},
   "outputs": [
    {
     "name": "stdout",
     "output_type": "stream",
     "text": [
      "cat\n"
     ]
    }
   ],
   "source": [
    "#Printing the predictions\n",
    "print(prediction)"
   ]
  },
  {
   "cell_type": "code",
   "execution_count": null,
   "metadata": {},
   "outputs": [],
   "source": []
  }
 ],
 "metadata": {
  "kernelspec": {
   "display_name": "Python 3",
   "language": "python",
   "name": "python3"
  },
  "language_info": {
   "codemirror_mode": {
    "name": "ipython",
    "version": 3
   },
   "file_extension": ".py",
   "mimetype": "text/x-python",
   "name": "python",
   "nbconvert_exporter": "python",
   "pygments_lexer": "ipython3",
   "version": "3.8.5"
  }
 },
 "nbformat": 4,
 "nbformat_minor": 4
}
